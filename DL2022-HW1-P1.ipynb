{
 "cells": [
  {
   "cell_type": "markdown",
   "metadata": {
    "id": "W9C8irrtoKme"
   },
   "source": [
    "# Deep Learning\n",
    "## HW1 - Problem 1 - Recommender System (100 + 20 pts)"
   ]
  },
  {
   "cell_type": "markdown",
   "metadata": {
    "id": "JfSoF54boT_f"
   },
   "source": [
    "### Please fill this part\n",
    "\n",
    "\n",
    "1.   Full Name: Mohammad Hajipour\n",
    "2.   Student Number: 401301843\n",
    "\n",
    "\n",
    "*You are just allowded to change those parts that start with \"TO DO\". Please do not change other parts.*\n",
    "\n",
    "*It is highly recommended to read each codeline carefully and try to understand what it exactly does. Best of luck and have fun!*"
   ]
  },
  {
   "cell_type": "code",
   "execution_count": 1,
   "metadata": {
    "id": "JbLr64MUoIp2",
    "vscode": {
     "languageId": "python"
    }
   },
   "outputs": [],
   "source": [
    "import numpy as np\n",
    "import pandas as pd\n",
    "import seaborn as sns\n",
    "from pylab import rcParams\n",
    "import string\n",
    "import re\n",
    "import matplotlib.pyplot as plt\n",
    "import math\n",
    "from matplotlib import rc\n",
    "from sklearn.model_selection import train_test_split\n",
    "import matplotlib.ticker as ticker\n",
    "from math import sqrt\n",
    "from sklearn.metrics import mean_squared_error\n",
    "\n",
    "%matplotlib inline\n",
    "\n",
    "sns.set(style='whitegrid', palette='muted', font_scale=1.3)\n",
    "\n",
    "rcParams['figure.figsize'] = 14, 8\n",
    "\n",
    "RANDOM_SEED = 42\n",
    "\n",
    "np.random.seed(RANDOM_SEED)"
   ]
  },
  {
   "cell_type": "code",
   "execution_count": 2,
   "metadata": {
    "id": "GjQ9J_1OvE-v",
    "vscode": {
     "languageId": "python"
    }
   },
   "outputs": [],
   "source": [
    "# Change the address as you wish\n",
    "plays = pd.read_csv('./data/user_artists.dat', sep='\\t')\n",
    "artists = pd.read_csv('./data/artists.dat', sep='\\t', usecols=['id','name'])"
   ]
  },
  {
   "cell_type": "markdown",
   "metadata": {
    "id": "M96xlH9OP4M3"
   },
   "source": [
    "# Preprocessing (20 pts)"
   ]
  },
  {
   "cell_type": "code",
   "execution_count": 3,
   "metadata": {
    "id": "1rvLbMSVvSJV",
    "vscode": {
     "languageId": "python"
    }
   },
   "outputs": [],
   "source": [
    "###############################################################################\n",
    "## TODO: merge two DataSets in a way that below DataFrame is created         ##\n",
    "###############################################################################\n",
    "\n",
    "ap = pd.merge(artists, plays, left_on=\"id\", right_on=\"artistID\")"
   ]
  },
  {
   "cell_type": "code",
   "execution_count": 4,
   "metadata": {
    "id": "GsY0bPL8wg1t",
    "vscode": {
     "languageId": "python"
    }
   },
   "outputs": [],
   "source": [
    "###############################################################################\n",
    "## TODO: rename the weight columns to PlayCount         ##\n",
    "###############################################################################\n",
    "ap = ap.rename(columns={\"weight\": \"playCount\"})"
   ]
  },
  {
   "cell_type": "code",
   "execution_count": 5,
   "metadata": {
    "id": "hcVap4lUvTJ9",
    "vscode": {
     "languageId": "python"
    }
   },
   "outputs": [],
   "source": [
    "###############################################################################\n",
    "## TODO: Delete the \"id\" columns and reset_indexes of ap                     ##\n",
    "##############################################################################\n",
    "del ap[\"id\"]"
   ]
  },
  {
   "cell_type": "code",
   "execution_count": 6,
   "metadata": {},
   "outputs": [
    {
     "data": {
      "text/html": [
       "<div>\n",
       "<style scoped>\n",
       "    .dataframe tbody tr th:only-of-type {\n",
       "        vertical-align: middle;\n",
       "    }\n",
       "\n",
       "    .dataframe tbody tr th {\n",
       "        vertical-align: top;\n",
       "    }\n",
       "\n",
       "    .dataframe thead th {\n",
       "        text-align: right;\n",
       "    }\n",
       "</style>\n",
       "<table border=\"1\" class=\"dataframe\">\n",
       "  <thead>\n",
       "    <tr style=\"text-align: right;\">\n",
       "      <th></th>\n",
       "      <th>name</th>\n",
       "      <th>userID</th>\n",
       "      <th>artistID</th>\n",
       "      <th>playCount</th>\n",
       "    </tr>\n",
       "  </thead>\n",
       "  <tbody>\n",
       "    <tr>\n",
       "      <th>0</th>\n",
       "      <td>MALICE MIZER</td>\n",
       "      <td>34</td>\n",
       "      <td>1</td>\n",
       "      <td>212</td>\n",
       "    </tr>\n",
       "    <tr>\n",
       "      <th>1</th>\n",
       "      <td>MALICE MIZER</td>\n",
       "      <td>274</td>\n",
       "      <td>1</td>\n",
       "      <td>483</td>\n",
       "    </tr>\n",
       "    <tr>\n",
       "      <th>2</th>\n",
       "      <td>MALICE MIZER</td>\n",
       "      <td>785</td>\n",
       "      <td>1</td>\n",
       "      <td>76</td>\n",
       "    </tr>\n",
       "    <tr>\n",
       "      <th>3</th>\n",
       "      <td>Diary of Dreams</td>\n",
       "      <td>135</td>\n",
       "      <td>2</td>\n",
       "      <td>1021</td>\n",
       "    </tr>\n",
       "    <tr>\n",
       "      <th>4</th>\n",
       "      <td>Diary of Dreams</td>\n",
       "      <td>257</td>\n",
       "      <td>2</td>\n",
       "      <td>152</td>\n",
       "    </tr>\n",
       "    <tr>\n",
       "      <th>...</th>\n",
       "      <td>...</td>\n",
       "      <td>...</td>\n",
       "      <td>...</td>\n",
       "      <td>...</td>\n",
       "    </tr>\n",
       "    <tr>\n",
       "      <th>92829</th>\n",
       "      <td>Diamanda Galás</td>\n",
       "      <td>454</td>\n",
       "      <td>18741</td>\n",
       "      <td>301</td>\n",
       "    </tr>\n",
       "    <tr>\n",
       "      <th>92830</th>\n",
       "      <td>Aya RL</td>\n",
       "      <td>454</td>\n",
       "      <td>18742</td>\n",
       "      <td>294</td>\n",
       "    </tr>\n",
       "    <tr>\n",
       "      <th>92831</th>\n",
       "      <td>Coptic Rain</td>\n",
       "      <td>454</td>\n",
       "      <td>18743</td>\n",
       "      <td>287</td>\n",
       "    </tr>\n",
       "    <tr>\n",
       "      <th>92832</th>\n",
       "      <td>Oz Alchemist</td>\n",
       "      <td>454</td>\n",
       "      <td>18744</td>\n",
       "      <td>286</td>\n",
       "    </tr>\n",
       "    <tr>\n",
       "      <th>92833</th>\n",
       "      <td>Grzegorz Tomczak</td>\n",
       "      <td>585</td>\n",
       "      <td>18745</td>\n",
       "      <td>426</td>\n",
       "    </tr>\n",
       "  </tbody>\n",
       "</table>\n",
       "<p>92834 rows × 4 columns</p>\n",
       "</div>"
      ],
      "text/plain": [
       "                   name  userID  artistID  playCount\n",
       "0          MALICE MIZER      34         1        212\n",
       "1          MALICE MIZER     274         1        483\n",
       "2          MALICE MIZER     785         1         76\n",
       "3       Diary of Dreams     135         2       1021\n",
       "4       Diary of Dreams     257         2        152\n",
       "...                 ...     ...       ...        ...\n",
       "92829    Diamanda Galás     454     18741        301\n",
       "92830            Aya RL     454     18742        294\n",
       "92831       Coptic Rain     454     18743        287\n",
       "92832      Oz Alchemist     454     18744        286\n",
       "92833  Grzegorz Tomczak     585     18745        426\n",
       "\n",
       "[92834 rows x 4 columns]"
      ]
     },
     "execution_count": 6,
     "metadata": {},
     "output_type": "execute_result"
    }
   ],
   "source": [
    "ap"
   ]
  },
  {
   "cell_type": "code",
   "execution_count": 11,
   "metadata": {
    "id": "g-eWLtE-QZRD",
    "vscode": {
     "languageId": "python"
    }
   },
   "outputs": [],
   "source": [
    "###############################################################################\n",
    "## TODO: Create  a Dataframe like below where \"totalUniqueUsers\" is the number of\n",
    "## userID's assigned to each name in \"ap\" dataframe.\n",
    "## \"totalArtistPlays\" is sum of all playcounts assigned to an artist  \n",
    "## and sort the Frame in descending order of \"totalArtistPlays\" (highest \"totalArtistPlays\" at top of table) \n",
    "## and \"avgUserPlays\" is divison of \"totalArtistPlays\" by \"totalUniqueUsers\"  \n",
    "###############################################################################\n",
    "artist_rank = ap.groupby(['name']).agg({'userID' : 'count', 'playCount' : 'sum'}).rename(columns={\"userID\" : 'totalUniqueUsers', \"playCount\" : \"totalArtistPlays\"}).sort_values(['totalArtistPlays'], ascending=False)\n",
    "artist_rank['avgUserPlays'] = artist_rank['totalArtistPlays'] / artist_rank['totalUniqueUsers']"
   ]
  },
  {
   "cell_type": "code",
   "execution_count": 12,
   "metadata": {},
   "outputs": [
    {
     "data": {
      "text/html": [
       "<div>\n",
       "<style scoped>\n",
       "    .dataframe tbody tr th:only-of-type {\n",
       "        vertical-align: middle;\n",
       "    }\n",
       "\n",
       "    .dataframe tbody tr th {\n",
       "        vertical-align: top;\n",
       "    }\n",
       "\n",
       "    .dataframe thead th {\n",
       "        text-align: right;\n",
       "    }\n",
       "</style>\n",
       "<table border=\"1\" class=\"dataframe\">\n",
       "  <thead>\n",
       "    <tr style=\"text-align: right;\">\n",
       "      <th></th>\n",
       "      <th>totalUniqueUsers</th>\n",
       "      <th>totalArtistPlays</th>\n",
       "      <th>avgUserPlays</th>\n",
       "    </tr>\n",
       "    <tr>\n",
       "      <th>name</th>\n",
       "      <th></th>\n",
       "      <th></th>\n",
       "      <th></th>\n",
       "    </tr>\n",
       "  </thead>\n",
       "  <tbody>\n",
       "    <tr>\n",
       "      <th>Britney Spears</th>\n",
       "      <td>522</td>\n",
       "      <td>2393140</td>\n",
       "      <td>4584.559387</td>\n",
       "    </tr>\n",
       "    <tr>\n",
       "      <th>Depeche Mode</th>\n",
       "      <td>282</td>\n",
       "      <td>1301308</td>\n",
       "      <td>4614.567376</td>\n",
       "    </tr>\n",
       "    <tr>\n",
       "      <th>Lady Gaga</th>\n",
       "      <td>611</td>\n",
       "      <td>1291387</td>\n",
       "      <td>2113.563011</td>\n",
       "    </tr>\n",
       "    <tr>\n",
       "      <th>Christina Aguilera</th>\n",
       "      <td>407</td>\n",
       "      <td>1058405</td>\n",
       "      <td>2600.503686</td>\n",
       "    </tr>\n",
       "    <tr>\n",
       "      <th>Paramore</th>\n",
       "      <td>399</td>\n",
       "      <td>963449</td>\n",
       "      <td>2414.659148</td>\n",
       "    </tr>\n",
       "    <tr>\n",
       "      <th>...</th>\n",
       "      <td>...</td>\n",
       "      <td>...</td>\n",
       "      <td>...</td>\n",
       "    </tr>\n",
       "    <tr>\n",
       "      <th>Morris</th>\n",
       "      <td>1</td>\n",
       "      <td>1</td>\n",
       "      <td>1.000000</td>\n",
       "    </tr>\n",
       "    <tr>\n",
       "      <th>Eddie Kendricks</th>\n",
       "      <td>1</td>\n",
       "      <td>1</td>\n",
       "      <td>1.000000</td>\n",
       "    </tr>\n",
       "    <tr>\n",
       "      <th>Excess Pressure</th>\n",
       "      <td>1</td>\n",
       "      <td>1</td>\n",
       "      <td>1.000000</td>\n",
       "    </tr>\n",
       "    <tr>\n",
       "      <th>My Mine</th>\n",
       "      <td>1</td>\n",
       "      <td>1</td>\n",
       "      <td>1.000000</td>\n",
       "    </tr>\n",
       "    <tr>\n",
       "      <th>A.M. Architect</th>\n",
       "      <td>1</td>\n",
       "      <td>1</td>\n",
       "      <td>1.000000</td>\n",
       "    </tr>\n",
       "  </tbody>\n",
       "</table>\n",
       "<p>17632 rows × 3 columns</p>\n",
       "</div>"
      ],
      "text/plain": [
       "                    totalUniqueUsers  totalArtistPlays  avgUserPlays\n",
       "name                                                                \n",
       "Britney Spears                   522           2393140   4584.559387\n",
       "Depeche Mode                     282           1301308   4614.567376\n",
       "Lady Gaga                        611           1291387   2113.563011\n",
       "Christina Aguilera               407           1058405   2600.503686\n",
       "Paramore                         399            963449   2414.659148\n",
       "...                              ...               ...           ...\n",
       "Morris                             1                 1      1.000000\n",
       "Eddie Kendricks                    1                 1      1.000000\n",
       "Excess Pressure                    1                 1      1.000000\n",
       "My Mine                            1                 1      1.000000\n",
       "A.M. Architect                     1                 1      1.000000\n",
       "\n",
       "[17632 rows x 3 columns]"
      ]
     },
     "execution_count": 12,
     "metadata": {},
     "output_type": "execute_result"
    }
   ],
   "source": [
    "artist_rank"
   ]
  },
  {
   "cell_type": "code",
   "execution_count": 13,
   "metadata": {
    "id": "x4NpxWVpQe7-",
    "vscode": {
     "languageId": "python"
    }
   },
   "outputs": [],
   "source": [
    "###############################################################################\n",
    "## TODO: Create  a Dataframe like below where for each name in ap dataframe,\n",
    "# corresponding row in artist rank is attached to it  \n",
    "###############################################################################\n",
    "ap = ap.join(artist_rank, on=\"name\", how=\"inner\").sort_values(['playCount'], ascending=False)"
   ]
  },
  {
   "cell_type": "code",
   "execution_count": 14,
   "metadata": {
    "colab": {
     "base_uri": "https://localhost:8080/",
     "height": 677
    },
    "id": "K7FlfjZCbF_5",
    "outputId": "78bfdb29-c302-4c79-d60e-25a0d8180697",
    "vscode": {
     "languageId": "python"
    }
   },
   "outputs": [
    {
     "data": {
      "text/html": [
       "<div>\n",
       "<style scoped>\n",
       "    .dataframe tbody tr th:only-of-type {\n",
       "        vertical-align: middle;\n",
       "    }\n",
       "\n",
       "    .dataframe tbody tr th {\n",
       "        vertical-align: top;\n",
       "    }\n",
       "\n",
       "    .dataframe thead th {\n",
       "        text-align: right;\n",
       "    }\n",
       "</style>\n",
       "<table border=\"1\" class=\"dataframe\">\n",
       "  <thead>\n",
       "    <tr style=\"text-align: right;\">\n",
       "      <th></th>\n",
       "      <th>name</th>\n",
       "      <th>userID</th>\n",
       "      <th>artistID</th>\n",
       "      <th>playCount</th>\n",
       "      <th>totalUniqueUsers</th>\n",
       "      <th>totalArtistPlays</th>\n",
       "      <th>avgUserPlays</th>\n",
       "    </tr>\n",
       "  </thead>\n",
       "  <tbody>\n",
       "    <tr>\n",
       "      <th>2800</th>\n",
       "      <td>Depeche Mode</td>\n",
       "      <td>1642</td>\n",
       "      <td>72</td>\n",
       "      <td>352698</td>\n",
       "      <td>282</td>\n",
       "      <td>1301308</td>\n",
       "      <td>4614.567376</td>\n",
       "    </tr>\n",
       "    <tr>\n",
       "      <th>35843</th>\n",
       "      <td>Thalía</td>\n",
       "      <td>2071</td>\n",
       "      <td>792</td>\n",
       "      <td>324663</td>\n",
       "      <td>26</td>\n",
       "      <td>350035</td>\n",
       "      <td>13462.884615</td>\n",
       "    </tr>\n",
       "    <tr>\n",
       "      <th>27302</th>\n",
       "      <td>U2</td>\n",
       "      <td>1094</td>\n",
       "      <td>511</td>\n",
       "      <td>320725</td>\n",
       "      <td>185</td>\n",
       "      <td>493024</td>\n",
       "      <td>2664.994595</td>\n",
       "    </tr>\n",
       "    <tr>\n",
       "      <th>8152</th>\n",
       "      <td>Blur</td>\n",
       "      <td>1905</td>\n",
       "      <td>203</td>\n",
       "      <td>257978</td>\n",
       "      <td>114</td>\n",
       "      <td>318221</td>\n",
       "      <td>2791.412281</td>\n",
       "    </tr>\n",
       "    <tr>\n",
       "      <th>26670</th>\n",
       "      <td>Paramore</td>\n",
       "      <td>1664</td>\n",
       "      <td>498</td>\n",
       "      <td>227829</td>\n",
       "      <td>399</td>\n",
       "      <td>963449</td>\n",
       "      <td>2414.659148</td>\n",
       "    </tr>\n",
       "    <tr>\n",
       "      <th>21191</th>\n",
       "      <td>Evanescence</td>\n",
       "      <td>1146</td>\n",
       "      <td>378</td>\n",
       "      <td>203165</td>\n",
       "      <td>226</td>\n",
       "      <td>513476</td>\n",
       "      <td>2272.017699</td>\n",
       "    </tr>\n",
       "    <tr>\n",
       "      <th>14165</th>\n",
       "      <td>Christina Aguilera</td>\n",
       "      <td>514</td>\n",
       "      <td>292</td>\n",
       "      <td>176133</td>\n",
       "      <td>407</td>\n",
       "      <td>1058405</td>\n",
       "      <td>2600.503686</td>\n",
       "    </tr>\n",
       "    <tr>\n",
       "      <th>33309</th>\n",
       "      <td>Shakira</td>\n",
       "      <td>1983</td>\n",
       "      <td>701</td>\n",
       "      <td>172496</td>\n",
       "      <td>319</td>\n",
       "      <td>688529</td>\n",
       "      <td>2158.398119</td>\n",
       "    </tr>\n",
       "    <tr>\n",
       "      <th>33127</th>\n",
       "      <td>Shakira</td>\n",
       "      <td>757</td>\n",
       "      <td>701</td>\n",
       "      <td>169596</td>\n",
       "      <td>319</td>\n",
       "      <td>688529</td>\n",
       "      <td>2158.398119</td>\n",
       "    </tr>\n",
       "    <tr>\n",
       "      <th>31835</th>\n",
       "      <td>Glee Cast</td>\n",
       "      <td>1086</td>\n",
       "      <td>679</td>\n",
       "      <td>165902</td>\n",
       "      <td>249</td>\n",
       "      <td>506453</td>\n",
       "      <td>2033.947791</td>\n",
       "    </tr>\n",
       "    <tr>\n",
       "      <th>26983</th>\n",
       "      <td>In Flames</td>\n",
       "      <td>903</td>\n",
       "      <td>503</td>\n",
       "      <td>146411</td>\n",
       "      <td>67</td>\n",
       "      <td>237148</td>\n",
       "      <td>3539.522388</td>\n",
       "    </tr>\n",
       "    <tr>\n",
       "      <th>32498</th>\n",
       "      <td>All Time Low</td>\n",
       "      <td>946</td>\n",
       "      <td>687</td>\n",
       "      <td>144559</td>\n",
       "      <td>77</td>\n",
       "      <td>215777</td>\n",
       "      <td>2802.298701</td>\n",
       "    </tr>\n",
       "    <tr>\n",
       "      <th>13324</th>\n",
       "      <td>Britney Spears</td>\n",
       "      <td>542</td>\n",
       "      <td>289</td>\n",
       "      <td>131733</td>\n",
       "      <td>522</td>\n",
       "      <td>2393140</td>\n",
       "      <td>4584.559387</td>\n",
       "    </tr>\n",
       "    <tr>\n",
       "      <th>21165</th>\n",
       "      <td>Evanescence</td>\n",
       "      <td>938</td>\n",
       "      <td>378</td>\n",
       "      <td>129595</td>\n",
       "      <td>226</td>\n",
       "      <td>513476</td>\n",
       "      <td>2272.017699</td>\n",
       "    </tr>\n",
       "    <tr>\n",
       "      <th>13680</th>\n",
       "      <td>Britney Spears</td>\n",
       "      <td>2031</td>\n",
       "      <td>289</td>\n",
       "      <td>128654</td>\n",
       "      <td>522</td>\n",
       "      <td>2393140</td>\n",
       "      <td>4584.559387</td>\n",
       "    </tr>\n",
       "    <tr>\n",
       "      <th>25865</th>\n",
       "      <td>30 Seconds to Mars</td>\n",
       "      <td>1368</td>\n",
       "      <td>486</td>\n",
       "      <td>125471</td>\n",
       "      <td>216</td>\n",
       "      <td>485532</td>\n",
       "      <td>2247.833333</td>\n",
       "    </tr>\n",
       "    <tr>\n",
       "      <th>5575</th>\n",
       "      <td>Pink Floyd</td>\n",
       "      <td>292</td>\n",
       "      <td>163</td>\n",
       "      <td>123065</td>\n",
       "      <td>258</td>\n",
       "      <td>466104</td>\n",
       "      <td>1806.604651</td>\n",
       "    </tr>\n",
       "    <tr>\n",
       "      <th>3640</th>\n",
       "      <td>Lady Gaga</td>\n",
       "      <td>1135</td>\n",
       "      <td>89</td>\n",
       "      <td>114672</td>\n",
       "      <td>611</td>\n",
       "      <td>1291387</td>\n",
       "      <td>2113.563011</td>\n",
       "    </tr>\n",
       "    <tr>\n",
       "      <th>6792</th>\n",
       "      <td>a-ha</td>\n",
       "      <td>442</td>\n",
       "      <td>187</td>\n",
       "      <td>112009</td>\n",
       "      <td>97</td>\n",
       "      <td>205195</td>\n",
       "      <td>2115.412371</td>\n",
       "    </tr>\n",
       "    <tr>\n",
       "      <th>7737</th>\n",
       "      <td>System of a Down</td>\n",
       "      <td>459</td>\n",
       "      <td>198</td>\n",
       "      <td>110185</td>\n",
       "      <td>181</td>\n",
       "      <td>277397</td>\n",
       "      <td>1532.580110</td>\n",
       "    </tr>\n",
       "  </tbody>\n",
       "</table>\n",
       "</div>"
      ],
      "text/plain": [
       "                     name  userID  artistID  playCount  totalUniqueUsers  \\\n",
       "2800         Depeche Mode    1642        72     352698               282   \n",
       "35843              Thalía    2071       792     324663                26   \n",
       "27302                  U2    1094       511     320725               185   \n",
       "8152                 Blur    1905       203     257978               114   \n",
       "26670            Paramore    1664       498     227829               399   \n",
       "21191         Evanescence    1146       378     203165               226   \n",
       "14165  Christina Aguilera     514       292     176133               407   \n",
       "33309             Shakira    1983       701     172496               319   \n",
       "33127             Shakira     757       701     169596               319   \n",
       "31835           Glee Cast    1086       679     165902               249   \n",
       "26983           In Flames     903       503     146411                67   \n",
       "32498        All Time Low     946       687     144559                77   \n",
       "13324      Britney Spears     542       289     131733               522   \n",
       "21165         Evanescence     938       378     129595               226   \n",
       "13680      Britney Spears    2031       289     128654               522   \n",
       "25865  30 Seconds to Mars    1368       486     125471               216   \n",
       "5575           Pink Floyd     292       163     123065               258   \n",
       "3640            Lady Gaga    1135        89     114672               611   \n",
       "6792                 a-ha     442       187     112009                97   \n",
       "7737     System of a Down     459       198     110185               181   \n",
       "\n",
       "       totalArtistPlays  avgUserPlays  \n",
       "2800            1301308   4614.567376  \n",
       "35843            350035  13462.884615  \n",
       "27302            493024   2664.994595  \n",
       "8152             318221   2791.412281  \n",
       "26670            963449   2414.659148  \n",
       "21191            513476   2272.017699  \n",
       "14165           1058405   2600.503686  \n",
       "33309            688529   2158.398119  \n",
       "33127            688529   2158.398119  \n",
       "31835            506453   2033.947791  \n",
       "26983            237148   3539.522388  \n",
       "32498            215777   2802.298701  \n",
       "13324           2393140   4584.559387  \n",
       "21165            513476   2272.017699  \n",
       "13680           2393140   4584.559387  \n",
       "25865            485532   2247.833333  \n",
       "5575             466104   1806.604651  \n",
       "3640            1291387   2113.563011  \n",
       "6792             205195   2115.412371  \n",
       "7737             277397   1532.580110  "
      ]
     },
     "execution_count": 14,
     "metadata": {},
     "output_type": "execute_result"
    }
   ],
   "source": [
    "ap.head(20)"
   ]
  },
  {
   "cell_type": "markdown",
   "metadata": {
    "id": "R-y3JEXu5fco"
   },
   "source": [
    "# Exploration"
   ]
  },
  {
   "cell_type": "code",
   "execution_count": 15,
   "metadata": {
    "id": "AFOW6AxQFqTM",
    "vscode": {
     "languageId": "python"
    }
   },
   "outputs": [],
   "source": [
    "def bar_chart_int(x,y,x_label,y_label,title,caption,total_val):\n",
    "    fig, ax = plt.subplots();\n",
    "    fig.set_size_inches(16, 5);\n",
    "    ax = sns.barplot(x[:20], y[:20], palette='Blues_r');\n",
    "    ax.set_xlabel(x_label);\n",
    "    ax.set_ylabel(y_label);\n",
    "    ax.set_title(title);\n",
    "    ax.get_yaxis().set_major_formatter(ticker.FuncFormatter(lambda x, p: '{:,}'.format(int(x))));\n",
    "\n",
    "    # our bar label placement\n",
    "    for p in ax.patches:\n",
    "        height = p.get_height()\n",
    "        pct = 100*(height/total_val)\n",
    "        ax.text(p.get_x()+p.get_width()/2.,\n",
    "                height + 3,\n",
    "                '{:1.1f}%'.format(pct),\n",
    "                ha=\"center\",verticalalignment='bottom',color='black', fontsize=12);\n",
    "\n",
    "    # our caption statement\n",
    "    ax.text(19, max(y[:20])*0.95, caption,horizontalalignment='right');\n",
    "\n",
    "    plt.xticks(rotation=90);\n",
    "    plt.show();"
   ]
  },
  {
   "cell_type": "code",
   "execution_count": 16,
   "metadata": {
    "id": "E537drc0GMOO",
    "vscode": {
     "languageId": "python"
    }
   },
   "outputs": [
    {
     "name": "stderr",
     "output_type": "stream",
     "text": [
      "/home/mohammad/anaconda3/envs/torch/lib/python3.10/site-packages/seaborn/_decorators.py:36: FutureWarning: Pass the following variables as keyword args: x, y. From version 0.12, the only valid positional argument will be `data`, and passing other arguments without an explicit keyword will result in an error or misinterpretation.\n",
      "  warnings.warn(\n"
     ]
    },
    {
     "data": {
      "image/png": "[encoded data removed]",
      "text/plain": [
       "<Figure size 1152x360 with 1 Axes>"
      ]
     },
     "metadata": {},
     "output_type": "display_data"
    }
   ],
   "source": [
    "c1 = artist_rank\n",
    "x = c1.index\n",
    "y = c1.totalArtistPlays\n",
    "x_label = 'Artist Name'\n",
    "y_label = 'Total Artist Plays'\n",
    "title = 'Total Plays by Artist'\n",
    "caption = 'Percentage of total plays'\n",
    "total_val = c1.totalArtistPlays.sum()\n",
    "\n",
    "bar_chart_int(x,y,x_label,y_label,title,caption,total_val);"
   ]
  },
  {
   "cell_type": "code",
   "execution_count": 17,
   "metadata": {
    "id": "bJ-OapRiGYRZ",
    "vscode": {
     "languageId": "python"
    }
   },
   "outputs": [
    {
     "name": "stderr",
     "output_type": "stream",
     "text": [
      "/home/mohammad/anaconda3/envs/torch/lib/python3.10/site-packages/seaborn/_decorators.py:36: FutureWarning: Pass the following variables as keyword args: x, y. From version 0.12, the only valid positional argument will be `data`, and passing other arguments without an explicit keyword will result in an error or misinterpretation.\n",
      "  warnings.warn(\n"
     ]
    },
    {
     "data": {
      "image/png": "[encoded data removed]",
      "text/plain": [
       "<Figure size 1152x360 with 1 Axes>"
      ]
     },
     "metadata": {},
     "output_type": "display_data"
    }
   ],
   "source": [
    "c2 = artist_rank.sort_values(['totalUniqueUsers'],ascending=False)\n",
    "x = c2.index\n",
    "y = c2.totalUniqueUsers\n",
    "x_label = 'Artist Name'\n",
    "y_label = 'Unique Users Played'\n",
    "title = 'Unique Users per Artist'\n",
    "caption = 'Percentage of total unique users'\n",
    "total_val = ap.userID.nunique()\n",
    "\n",
    "bar_chart_int(x,y,x_label,y_label,title,caption,total_val)"
   ]
  },
  {
   "cell_type": "code",
   "execution_count": 18,
   "metadata": {
    "id": "QC1CzI5fGfch",
    "vscode": {
     "languageId": "python"
    }
   },
   "outputs": [
    {
     "name": "stderr",
     "output_type": "stream",
     "text": [
      "/home/mohammad/anaconda3/envs/torch/lib/python3.10/site-packages/seaborn/_decorators.py:36: FutureWarning: Pass the following variables as keyword args: x, y. From version 0.12, the only valid positional argument will be `data`, and passing other arguments without an explicit keyword will result in an error or misinterpretation.\n",
      "  warnings.warn(\n"
     ]
    },
    {
     "data": {
      "image/png": "[encoded data removed]",
      "text/plain": [
       "<Figure size 1080x720 with 1 Axes>"
      ]
     },
     "metadata": {},
     "output_type": "display_data"
    }
   ],
   "source": [
    "top_artists =  artist_rank.index[0:12] # TODO : index of top 12 items in \"artist_rank\" based on their \"totalArtistPlays\"\n",
    "\n",
    "x = artist_rank.totalUniqueUsers # TODO : \"totalUniqueUsers\" of \"artist_rank\"\n",
    "y =  artist_rank.totalArtistPlays # TODO :  \"totalArtistPlays\" of \"artist_rank\"\n",
    "labels =  artist_rank.index # TODO : index of \"artist_rank\"\n",
    "\n",
    "fig, ax = plt.subplots(figsize=(15,10))\n",
    "sns.regplot(x,y)\n",
    "ax.set_title('Artist Popularity: Play Count vs Unique Users')\n",
    "ax.yaxis.set_major_formatter(ticker.FuncFormatter(lambda y, _: '{:,.0f}'.format(y)))\n",
    "ax.set_xlabel('Total Unique Users')\n",
    "ax.set_ylabel('Total Artist Plays')\n",
    "\n",
    "for i, t in enumerate(labels):\n",
    "    if t in top_artists:\n",
    "        ax.annotate(t,(x[i],y[i]))"
   ]
  },
  {
   "cell_type": "markdown",
   "metadata": {
    "id": "FnMsFfIFMstw"
   },
   "source": [
    "# Preprocessing (30 pts)"
   ]
  },
  {
   "cell_type": "code",
   "execution_count": 19,
   "metadata": {
    "id": "CHkdq3Qo4dEI",
    "vscode": {
     "languageId": "python"
    }
   },
   "outputs": [],
   "source": [
    "pc = ap.playCount \n",
    "play_count_scaled = (pc - pc.min()) / (pc.max() - pc.min())\n",
    "ap = ap.assign(playCountScaled=play_count_scaled)"
   ]
  },
  {
   "cell_type": "code",
   "execution_count": 20,
   "metadata": {
    "id": "R5mhtRYXvV1d",
    "vscode": {
     "languageId": "python"
    }
   },
   "outputs": [],
   "source": [
    "###############################################################################\n",
    "## TODO: Create  a Dataframe with userID as its rows, artistID as its columns and\n",
    "## \"play_count_scaled\" as the value of each cell, in this manner you're creating\n",
    "## a table which demonstrates what rating each user has for a set of items(artists)\n",
    "## Your created table should be like below example\n",
    "###############################################################################\n",
    "\n",
    "ratings_df = ratings_df = ap.pivot(index='userID', columns='artistID', values='playCountScaled')"
   ]
  },
  {
   "cell_type": "code",
   "execution_count": 21,
   "metadata": {
    "colab": {
     "base_uri": "https://localhost:8080/",
     "height": 455
    },
    "id": "x3eZLu0bB9Ae",
    "outputId": "76241a41-b7db-4273-f7f0-e90c66f5d1fd",
    "vscode": {
     "languageId": "python"
    }
   },
   "outputs": [
    {
     "data": {
      "text/html": [
       "<div>\n",
       "<style scoped>\n",
       "    .dataframe tbody tr th:only-of-type {\n",
       "        vertical-align: middle;\n",
       "    }\n",
       "\n",
       "    .dataframe tbody tr th {\n",
       "        vertical-align: top;\n",
       "    }\n",
       "\n",
       "    .dataframe thead th {\n",
       "        text-align: right;\n",
       "    }\n",
       "</style>\n",
       "<table border=\"1\" class=\"dataframe\">\n",
       "  <thead>\n",
       "    <tr style=\"text-align: right;\">\n",
       "      <th>artistID</th>\n",
       "      <th>1</th>\n",
       "      <th>2</th>\n",
       "      <th>3</th>\n",
       "      <th>4</th>\n",
       "      <th>5</th>\n",
       "      <th>6</th>\n",
       "      <th>7</th>\n",
       "      <th>8</th>\n",
       "      <th>9</th>\n",
       "      <th>10</th>\n",
       "      <th>...</th>\n",
       "      <th>18736</th>\n",
       "      <th>18737</th>\n",
       "      <th>18738</th>\n",
       "      <th>18739</th>\n",
       "      <th>18740</th>\n",
       "      <th>18741</th>\n",
       "      <th>18742</th>\n",
       "      <th>18743</th>\n",
       "      <th>18744</th>\n",
       "      <th>18745</th>\n",
       "    </tr>\n",
       "    <tr>\n",
       "      <th>userID</th>\n",
       "      <th></th>\n",
       "      <th></th>\n",
       "      <th></th>\n",
       "      <th></th>\n",
       "      <th></th>\n",
       "      <th></th>\n",
       "      <th></th>\n",
       "      <th></th>\n",
       "      <th></th>\n",
       "      <th></th>\n",
       "      <th></th>\n",
       "      <th></th>\n",
       "      <th></th>\n",
       "      <th></th>\n",
       "      <th></th>\n",
       "      <th></th>\n",
       "      <th></th>\n",
       "      <th></th>\n",
       "      <th></th>\n",
       "      <th></th>\n",
       "      <th></th>\n",
       "    </tr>\n",
       "  </thead>\n",
       "  <tbody>\n",
       "    <tr>\n",
       "      <th>2</th>\n",
       "      <td>NaN</td>\n",
       "      <td>NaN</td>\n",
       "      <td>NaN</td>\n",
       "      <td>NaN</td>\n",
       "      <td>NaN</td>\n",
       "      <td>NaN</td>\n",
       "      <td>NaN</td>\n",
       "      <td>NaN</td>\n",
       "      <td>NaN</td>\n",
       "      <td>NaN</td>\n",
       "      <td>...</td>\n",
       "      <td>NaN</td>\n",
       "      <td>NaN</td>\n",
       "      <td>NaN</td>\n",
       "      <td>NaN</td>\n",
       "      <td>NaN</td>\n",
       "      <td>NaN</td>\n",
       "      <td>NaN</td>\n",
       "      <td>NaN</td>\n",
       "      <td>NaN</td>\n",
       "      <td>NaN</td>\n",
       "    </tr>\n",
       "    <tr>\n",
       "      <th>3</th>\n",
       "      <td>NaN</td>\n",
       "      <td>NaN</td>\n",
       "      <td>NaN</td>\n",
       "      <td>NaN</td>\n",
       "      <td>NaN</td>\n",
       "      <td>NaN</td>\n",
       "      <td>NaN</td>\n",
       "      <td>NaN</td>\n",
       "      <td>NaN</td>\n",
       "      <td>NaN</td>\n",
       "      <td>...</td>\n",
       "      <td>NaN</td>\n",
       "      <td>NaN</td>\n",
       "      <td>NaN</td>\n",
       "      <td>NaN</td>\n",
       "      <td>NaN</td>\n",
       "      <td>NaN</td>\n",
       "      <td>NaN</td>\n",
       "      <td>NaN</td>\n",
       "      <td>NaN</td>\n",
       "      <td>NaN</td>\n",
       "    </tr>\n",
       "    <tr>\n",
       "      <th>4</th>\n",
       "      <td>NaN</td>\n",
       "      <td>NaN</td>\n",
       "      <td>NaN</td>\n",
       "      <td>NaN</td>\n",
       "      <td>NaN</td>\n",
       "      <td>NaN</td>\n",
       "      <td>NaN</td>\n",
       "      <td>NaN</td>\n",
       "      <td>NaN</td>\n",
       "      <td>NaN</td>\n",
       "      <td>...</td>\n",
       "      <td>NaN</td>\n",
       "      <td>NaN</td>\n",
       "      <td>NaN</td>\n",
       "      <td>NaN</td>\n",
       "      <td>NaN</td>\n",
       "      <td>NaN</td>\n",
       "      <td>NaN</td>\n",
       "      <td>NaN</td>\n",
       "      <td>NaN</td>\n",
       "      <td>NaN</td>\n",
       "    </tr>\n",
       "    <tr>\n",
       "      <th>5</th>\n",
       "      <td>NaN</td>\n",
       "      <td>NaN</td>\n",
       "      <td>NaN</td>\n",
       "      <td>NaN</td>\n",
       "      <td>NaN</td>\n",
       "      <td>NaN</td>\n",
       "      <td>NaN</td>\n",
       "      <td>NaN</td>\n",
       "      <td>NaN</td>\n",
       "      <td>NaN</td>\n",
       "      <td>...</td>\n",
       "      <td>NaN</td>\n",
       "      <td>NaN</td>\n",
       "      <td>NaN</td>\n",
       "      <td>NaN</td>\n",
       "      <td>NaN</td>\n",
       "      <td>NaN</td>\n",
       "      <td>NaN</td>\n",
       "      <td>NaN</td>\n",
       "      <td>NaN</td>\n",
       "      <td>NaN</td>\n",
       "    </tr>\n",
       "    <tr>\n",
       "      <th>6</th>\n",
       "      <td>NaN</td>\n",
       "      <td>NaN</td>\n",
       "      <td>NaN</td>\n",
       "      <td>NaN</td>\n",
       "      <td>NaN</td>\n",
       "      <td>NaN</td>\n",
       "      <td>NaN</td>\n",
       "      <td>NaN</td>\n",
       "      <td>NaN</td>\n",
       "      <td>NaN</td>\n",
       "      <td>...</td>\n",
       "      <td>NaN</td>\n",
       "      <td>NaN</td>\n",
       "      <td>NaN</td>\n",
       "      <td>NaN</td>\n",
       "      <td>NaN</td>\n",
       "      <td>NaN</td>\n",
       "      <td>NaN</td>\n",
       "      <td>NaN</td>\n",
       "      <td>NaN</td>\n",
       "      <td>NaN</td>\n",
       "    </tr>\n",
       "    <tr>\n",
       "      <th>...</th>\n",
       "      <td>...</td>\n",
       "      <td>...</td>\n",
       "      <td>...</td>\n",
       "      <td>...</td>\n",
       "      <td>...</td>\n",
       "      <td>...</td>\n",
       "      <td>...</td>\n",
       "      <td>...</td>\n",
       "      <td>...</td>\n",
       "      <td>...</td>\n",
       "      <td>...</td>\n",
       "      <td>...</td>\n",
       "      <td>...</td>\n",
       "      <td>...</td>\n",
       "      <td>...</td>\n",
       "      <td>...</td>\n",
       "      <td>...</td>\n",
       "      <td>...</td>\n",
       "      <td>...</td>\n",
       "      <td>...</td>\n",
       "      <td>...</td>\n",
       "    </tr>\n",
       "    <tr>\n",
       "      <th>2095</th>\n",
       "      <td>NaN</td>\n",
       "      <td>NaN</td>\n",
       "      <td>NaN</td>\n",
       "      <td>NaN</td>\n",
       "      <td>NaN</td>\n",
       "      <td>NaN</td>\n",
       "      <td>NaN</td>\n",
       "      <td>NaN</td>\n",
       "      <td>NaN</td>\n",
       "      <td>NaN</td>\n",
       "      <td>...</td>\n",
       "      <td>NaN</td>\n",
       "      <td>NaN</td>\n",
       "      <td>NaN</td>\n",
       "      <td>NaN</td>\n",
       "      <td>NaN</td>\n",
       "      <td>NaN</td>\n",
       "      <td>NaN</td>\n",
       "      <td>NaN</td>\n",
       "      <td>NaN</td>\n",
       "      <td>NaN</td>\n",
       "    </tr>\n",
       "    <tr>\n",
       "      <th>2096</th>\n",
       "      <td>NaN</td>\n",
       "      <td>NaN</td>\n",
       "      <td>NaN</td>\n",
       "      <td>NaN</td>\n",
       "      <td>NaN</td>\n",
       "      <td>NaN</td>\n",
       "      <td>NaN</td>\n",
       "      <td>NaN</td>\n",
       "      <td>NaN</td>\n",
       "      <td>NaN</td>\n",
       "      <td>...</td>\n",
       "      <td>NaN</td>\n",
       "      <td>NaN</td>\n",
       "      <td>NaN</td>\n",
       "      <td>NaN</td>\n",
       "      <td>NaN</td>\n",
       "      <td>NaN</td>\n",
       "      <td>NaN</td>\n",
       "      <td>NaN</td>\n",
       "      <td>NaN</td>\n",
       "      <td>NaN</td>\n",
       "    </tr>\n",
       "    <tr>\n",
       "      <th>2097</th>\n",
       "      <td>NaN</td>\n",
       "      <td>NaN</td>\n",
       "      <td>NaN</td>\n",
       "      <td>NaN</td>\n",
       "      <td>NaN</td>\n",
       "      <td>NaN</td>\n",
       "      <td>NaN</td>\n",
       "      <td>NaN</td>\n",
       "      <td>NaN</td>\n",
       "      <td>NaN</td>\n",
       "      <td>...</td>\n",
       "      <td>NaN</td>\n",
       "      <td>NaN</td>\n",
       "      <td>NaN</td>\n",
       "      <td>NaN</td>\n",
       "      <td>NaN</td>\n",
       "      <td>NaN</td>\n",
       "      <td>NaN</td>\n",
       "      <td>NaN</td>\n",
       "      <td>NaN</td>\n",
       "      <td>NaN</td>\n",
       "    </tr>\n",
       "    <tr>\n",
       "      <th>2099</th>\n",
       "      <td>NaN</td>\n",
       "      <td>NaN</td>\n",
       "      <td>NaN</td>\n",
       "      <td>NaN</td>\n",
       "      <td>NaN</td>\n",
       "      <td>NaN</td>\n",
       "      <td>NaN</td>\n",
       "      <td>NaN</td>\n",
       "      <td>NaN</td>\n",
       "      <td>NaN</td>\n",
       "      <td>...</td>\n",
       "      <td>NaN</td>\n",
       "      <td>NaN</td>\n",
       "      <td>NaN</td>\n",
       "      <td>NaN</td>\n",
       "      <td>NaN</td>\n",
       "      <td>NaN</td>\n",
       "      <td>NaN</td>\n",
       "      <td>NaN</td>\n",
       "      <td>NaN</td>\n",
       "      <td>NaN</td>\n",
       "    </tr>\n",
       "    <tr>\n",
       "      <th>2100</th>\n",
       "      <td>NaN</td>\n",
       "      <td>NaN</td>\n",
       "      <td>0.001154</td>\n",
       "      <td>NaN</td>\n",
       "      <td>NaN</td>\n",
       "      <td>0.001143</td>\n",
       "      <td>NaN</td>\n",
       "      <td>NaN</td>\n",
       "      <td>NaN</td>\n",
       "      <td>NaN</td>\n",
       "      <td>...</td>\n",
       "      <td>NaN</td>\n",
       "      <td>NaN</td>\n",
       "      <td>NaN</td>\n",
       "      <td>NaN</td>\n",
       "      <td>NaN</td>\n",
       "      <td>NaN</td>\n",
       "      <td>NaN</td>\n",
       "      <td>NaN</td>\n",
       "      <td>NaN</td>\n",
       "      <td>NaN</td>\n",
       "    </tr>\n",
       "  </tbody>\n",
       "</table>\n",
       "<p>1892 rows × 17632 columns</p>\n",
       "</div>"
      ],
      "text/plain": [
       "artistID  1      2         3      4      5         6      7      8      9      \\\n",
       "userID                                                                          \n",
       "2           NaN    NaN       NaN    NaN    NaN       NaN    NaN    NaN    NaN   \n",
       "3           NaN    NaN       NaN    NaN    NaN       NaN    NaN    NaN    NaN   \n",
       "4           NaN    NaN       NaN    NaN    NaN       NaN    NaN    NaN    NaN   \n",
       "5           NaN    NaN       NaN    NaN    NaN       NaN    NaN    NaN    NaN   \n",
       "6           NaN    NaN       NaN    NaN    NaN       NaN    NaN    NaN    NaN   \n",
       "...         ...    ...       ...    ...    ...       ...    ...    ...    ...   \n",
       "2095        NaN    NaN       NaN    NaN    NaN       NaN    NaN    NaN    NaN   \n",
       "2096        NaN    NaN       NaN    NaN    NaN       NaN    NaN    NaN    NaN   \n",
       "2097        NaN    NaN       NaN    NaN    NaN       NaN    NaN    NaN    NaN   \n",
       "2099        NaN    NaN       NaN    NaN    NaN       NaN    NaN    NaN    NaN   \n",
       "2100        NaN    NaN  0.001154    NaN    NaN  0.001143    NaN    NaN    NaN   \n",
       "\n",
       "artistID  10     ...  18736  18737  18738  18739  18740  18741  18742  18743  \\\n",
       "userID           ...                                                           \n",
       "2           NaN  ...    NaN    NaN    NaN    NaN    NaN    NaN    NaN    NaN   \n",
       "3           NaN  ...    NaN    NaN    NaN    NaN    NaN    NaN    NaN    NaN   \n",
       "4           NaN  ...    NaN    NaN    NaN    NaN    NaN    NaN    NaN    NaN   \n",
       "5           NaN  ...    NaN    NaN    NaN    NaN    NaN    NaN    NaN    NaN   \n",
       "6           NaN  ...    NaN    NaN    NaN    NaN    NaN    NaN    NaN    NaN   \n",
       "...         ...  ...    ...    ...    ...    ...    ...    ...    ...    ...   \n",
       "2095        NaN  ...    NaN    NaN    NaN    NaN    NaN    NaN    NaN    NaN   \n",
       "2096        NaN  ...    NaN    NaN    NaN    NaN    NaN    NaN    NaN    NaN   \n",
       "2097        NaN  ...    NaN    NaN    NaN    NaN    NaN    NaN    NaN    NaN   \n",
       "2099        NaN  ...    NaN    NaN    NaN    NaN    NaN    NaN    NaN    NaN   \n",
       "2100        NaN  ...    NaN    NaN    NaN    NaN    NaN    NaN    NaN    NaN   \n",
       "\n",
       "artistID  18744  18745  \n",
       "userID                  \n",
       "2           NaN    NaN  \n",
       "3           NaN    NaN  \n",
       "4           NaN    NaN  \n",
       "5           NaN    NaN  \n",
       "6           NaN    NaN  \n",
       "...         ...    ...  \n",
       "2095        NaN    NaN  \n",
       "2096        NaN    NaN  \n",
       "2097        NaN    NaN  \n",
       "2099        NaN    NaN  \n",
       "2100        NaN    NaN  \n",
       "\n",
       "[1892 rows x 17632 columns]"
      ]
     },
     "execution_count": 21,
     "metadata": {},
     "output_type": "execute_result"
    }
   ],
   "source": [
    "ratings_df"
   ]
  },
  {
   "cell_type": "code",
   "execution_count": 22,
   "metadata": {
    "id": "sKr9Vbh1YU54",
    "vscode": {
     "languageId": "python"
    }
   },
   "outputs": [],
   "source": [
    "###############################################################################\n",
    "# TODO: Fill each NaN value with 0 and return a numpy array corresponding modified DataFrame\n",
    "###############################################################################\n",
    "ratings = ratings_df.fillna(0).values"
   ]
  },
  {
   "cell_type": "code",
   "execution_count": 23,
   "metadata": {
    "id": "orlceCkSYblN",
    "vscode": {
     "languageId": "python"
    }
   },
   "outputs": [
    {
     "name": "stdout",
     "output_type": "stream",
     "text": [
      "0.28 %\n"
     ]
    }
   ],
   "source": [
    "###############################################################################\n",
    "# TODO : Calculate how sparse your data is (in percent) and print it, meaning \n",
    "# what fraction of the above table is filled with observed values.\n",
    "###############################################################################\n",
    "## Your Code\n",
    "sparsity = 100 * ((len(ratings.nonzero()[0])) / (ratings.shape[0] * ratings.shape[1]))\n",
    "print(f'{sparsity:.2f} %')\n",
    "## END"
   ]
  },
  {
   "cell_type": "markdown",
   "metadata": {
    "id": "ZjAeo1EtrLcS"
   },
   "source": [
    "# Fitting(Training) Model (50pts)"
   ]
  },
  {
   "cell_type": "code",
   "execution_count": 24,
   "metadata": {
    "id": "mUf64rfbYfi-",
    "vscode": {
     "languageId": "python"
    }
   },
   "outputs": [],
   "source": [
    "MIN_USER_RATINGS = 35\n",
    "DELETE_RATING_COUNT = 15\n",
    "\n",
    "###############################################################################\n",
    "# TODO : Complete the below function in way that, getting ratings array, creates\n",
    "# two same size arrays as train and validation, and for the users in ratings array\n",
    "# that have at least \"MIN_USER_RATINGS\" observed ratings, choose \"DELETE_RATING_COUNT\"\n",
    "# of these ratings, make them zero in train table and put them in validation table\n",
    "# return train and validation tables\n",
    "###############################################################################\n",
    "\n",
    "\n",
    "def train_test_split(ratings):\n",
    "    validation = np.zeros(ratings.shape)\n",
    "\n",
    "    train = ratings.copy()\n",
    "\n",
    "    for user in np.arange(ratings.shape[0]):\n",
    "\n",
    "        if len(ratings[user,:].nonzero()[0]) >= MIN_USER_RATINGS:\n",
    "            val_ratings = np.random.choice(ratings[user, :].nonzero()[0], size = DELETE_RATING_COUNT, replace=False)\n",
    "            train[user, val_ratings] = 0\n",
    "            validation[user, val_ratings] = ratings[user, val_ratings]\n",
    "\n",
    "    return train, validation"
   ]
  },
  {
   "cell_type": "code",
   "execution_count": 25,
   "metadata": {
    "id": "LaH_B8_qYhNb",
    "vscode": {
     "languageId": "python"
    }
   },
   "outputs": [],
   "source": [
    "train, val = train_test_split(ratings)"
   ]
  },
  {
   "cell_type": "code",
   "execution_count": 26,
   "metadata": {
    "id": "n5NEwC7tYvSo",
    "vscode": {
     "languageId": "python"
    }
   },
   "outputs": [],
   "source": [
    "###############################################################################\n",
    "# TODO : Complete below function in a way to return sqrt value of \"mean_squared_error\"\n",
    "# between non-zero(observed) values of ground_truth and prediction. Note that you sould\n",
    "# care about observed values of ground_truth table not prediction!\n",
    "###############################################################################\n",
    "def rmse(prediction, ground_truth):\n",
    "    prediction = prediction[ground_truth.nonzero()].flatten()\n",
    "    ground_truth = ground_truth[ground_truth.nonzero()].flatten()\n",
    "    return sqrt(mean_squared_error(prediction, ground_truth))"
   ]
  },
  {
   "cell_type": "code",
   "execution_count": 27,
   "metadata": {
    "id": "xQkKhzz6KTFi",
    "vscode": {
     "languageId": "python"
    }
   },
   "outputs": [],
   "source": [
    "class Recommender:\n",
    "    \n",
    "    def __init__(self, n_epochs=200, n_latent_features=3, lmbda=0.1, learning_rate=0.001):\n",
    "        self.n_epochs = n_epochs\n",
    "        self.n_latent_features = n_latent_features\n",
    "        self.lmbda = lmbda\n",
    "        self.learning_rate = learning_rate\n",
    "  \n",
    "    def predictions(self, P, Q):\n",
    "        #TODO : create the prediction matrix\n",
    "        return np.dot(P.T, Q)\n",
    "  \n",
    "\n",
    "  \n",
    "    def fit(self, X_train, X_val):\n",
    "        #TODO : Learn the model(P and Q) based on paper, you can initialize them with random gaussians\n",
    "        m, n = X_train.shape\n",
    "        self.P = 3 * np.random.rand(self.n_latent_features, m)\n",
    "        self.Q = 3 * np.random.rand(self.n_latent_features, n)\n",
    "        self.train_error = []\n",
    "        self.val_error = []\n",
    "        users, items = X_train.nonzero()\n",
    "        for epoch in range(self.n_epochs):\n",
    "            for u, i in zip(users, items):\n",
    "                error = X_train[u, i] - self.predictions(self.P[:,u], self.Q[:,i])\n",
    "                self.P[:, u] += self.learning_rate * (error * self.Q[:, i] - self.lmbda * self.P[:, u])\n",
    "                self.Q[:, i] += self.learning_rate * (error * self.P[:, u] - self.lmbda * self.Q[:, i])\n",
    "\n",
    "            train_rmse = rmse(self.predictions(self.P, self.Q), X_train)\n",
    "            val_rmse = rmse(self.predictions(self.P, self.Q), X_val)\n",
    "        #TODO : save the loss on train and validation data in each iteration\n",
    "            self.train_error.append(train_rmse)\n",
    "            self.val_error.append(val_rmse)\n",
    "        return self\n",
    "\n",
    "    def predict(self, X_train, user_index):\n",
    "        #TODO : return predicted ratings for unobserved values of specific user index\n",
    "        y_hat = self.predictions(self.P, self.Q)\n",
    "        predictions_index = np.where(X_train[user_index, :] == 0)[0]\n",
    "        return y_hat[user_index, predictions_index].flatten()"
   ]
  },
  {
   "cell_type": "code",
   "execution_count": 28,
   "metadata": {
    "id": "vxw6Fo5oYRMD",
    "vscode": {
     "languageId": "python"
    }
   },
   "outputs": [],
   "source": [
    "#creating recommender object\n",
    "recommender = Recommender().fit(train, val)"
   ]
  },
  {
   "cell_type": "code",
   "execution_count": 29,
   "metadata": {
    "id": "OlYUXsK4ivYP",
    "vscode": {
     "languageId": "python"
    }
   },
   "outputs": [
    {
     "data": {
      "text/plain": [
       "<matplotlib.legend.Legend at 0x7fc393e57010>"
      ]
     },
     "execution_count": 29,
     "metadata": {},
     "output_type": "execute_result"
    },
    {
     "data": {
      "image/png": "[encoded data removed]",
      "text/plain": [
       "<Figure size 1008x576 with 1 Axes>"
      ]
     },
     "metadata": {},
     "output_type": "display_data"
    }
   ],
   "source": [
    "###############################################################################\n",
    "# TODO : Plot the loss of train and loss\n",
    "###############################################################################\n",
    "epochs = np.arange(1,recommender.n_epochs + 1)\n",
    "plt.plot(epochs, recommender.train_error, label = 'Training Data')\n",
    "plt.plot(epochs, recommender.val_error, label = 'Validation Data')\n",
    "plt.xlabel('Epochs')\n",
    "plt.ylabel('RMSE')\n",
    "plt.legend()"
   ]
  },
  {
   "cell_type": "markdown",
   "metadata": {
    "id": "R1ZRnDJdrjyt"
   },
   "source": [
    "# Bonus\n",
    "**Can you improve the accuracy of model? If so, Do it and explain why it imporved! (Note that improvement must be noticable) (+10 pts)**"
   ]
  },
  {
   "cell_type": "markdown",
   "metadata": {
    "id": "qfsVdH_tAjeA"
   },
   "source": [
    "# Making recommendations"
   ]
  },
  {
   "cell_type": "code",
   "execution_count": 30,
   "metadata": {
    "id": "5qPPUDb62TMx",
    "vscode": {
     "languageId": "python"
    }
   },
   "outputs": [],
   "source": [
    "user_id = 1236\n",
    "user_index = ratings_df.index.get_loc(user_id)\n",
    "predictions_index = np.where(train[user_index, :] == 0)[0]\n",
    "rating_predictions = recommender.predict(train, user_index)"
   ]
  },
  {
   "cell_type": "code",
   "execution_count": 31,
   "metadata": {
    "id": "dl_Fy-GX8Q1X",
    "vscode": {
     "languageId": "python"
    }
   },
   "outputs": [],
   "source": [
    "def create_artist_ratings(artists_df, artists_index, ratings, n=10):\n",
    "    artist_ids = ratings_df.columns[artists_index]\n",
    "    artist_ratings = pd.DataFrame(data=dict(artistId=artist_ids, rating=ratings))\n",
    "    top_n_artists = artist_ratings.sort_values(\"rating\", ascending=False).head(n)\n",
    "    artist_recommendations = artists_df[artists_df.id.isin(top_n_artists.artistId)].reset_index(drop=True)\n",
    "    artist_recommendations['rating'] = pd.Series(top_n_artists.rating.values)\n",
    "    return artist_recommendations.sort_values(\"rating\", ascending=False)"
   ]
  },
  {
   "cell_type": "code",
   "execution_count": 32,
   "metadata": {
    "id": "F9v4iFUt9ETI",
    "vscode": {
     "languageId": "python"
    }
   },
   "outputs": [
    {
     "data": {
      "text/html": [
       "<div>\n",
       "<style scoped>\n",
       "    .dataframe tbody tr th:only-of-type {\n",
       "        vertical-align: middle;\n",
       "    }\n",
       "\n",
       "    .dataframe tbody tr th {\n",
       "        vertical-align: top;\n",
       "    }\n",
       "\n",
       "    .dataframe thead th {\n",
       "        text-align: right;\n",
       "    }\n",
       "</style>\n",
       "<table border=\"1\" class=\"dataframe\">\n",
       "  <thead>\n",
       "    <tr style=\"text-align: right;\">\n",
       "      <th></th>\n",
       "      <th>id</th>\n",
       "      <th>name</th>\n",
       "      <th>rating</th>\n",
       "    </tr>\n",
       "  </thead>\n",
       "  <tbody>\n",
       "    <tr>\n",
       "      <th>0</th>\n",
       "      <td>7</td>\n",
       "      <td>Marilyn Manson</td>\n",
       "      <td>0.196486</td>\n",
       "    </tr>\n",
       "    <tr>\n",
       "      <th>1</th>\n",
       "      <td>472</td>\n",
       "      <td>3 Doors Down</td>\n",
       "      <td>0.043204</td>\n",
       "    </tr>\n",
       "    <tr>\n",
       "      <th>2</th>\n",
       "      <td>614</td>\n",
       "      <td>Pearl Jam</td>\n",
       "      <td>0.042016</td>\n",
       "    </tr>\n",
       "    <tr>\n",
       "      <th>3</th>\n",
       "      <td>923</td>\n",
       "      <td>Children of Bodom</td>\n",
       "      <td>0.025657</td>\n",
       "    </tr>\n",
       "    <tr>\n",
       "      <th>4</th>\n",
       "      <td>978</td>\n",
       "      <td>Disturbed</td>\n",
       "      <td>0.021690</td>\n",
       "    </tr>\n",
       "    <tr>\n",
       "      <th>5</th>\n",
       "      <td>1104</td>\n",
       "      <td>Rammstein</td>\n",
       "      <td>0.021562</td>\n",
       "    </tr>\n",
       "    <tr>\n",
       "      <th>6</th>\n",
       "      <td>1118</td>\n",
       "      <td>A Perfect Circle</td>\n",
       "      <td>0.020879</td>\n",
       "    </tr>\n",
       "    <tr>\n",
       "      <th>7</th>\n",
       "      <td>2172</td>\n",
       "      <td>Gojira</td>\n",
       "      <td>0.017051</td>\n",
       "    </tr>\n",
       "    <tr>\n",
       "      <th>8</th>\n",
       "      <td>6257</td>\n",
       "      <td>Rob Zombie</td>\n",
       "      <td>0.016280</td>\n",
       "    </tr>\n",
       "    <tr>\n",
       "      <th>9</th>\n",
       "      <td>6618</td>\n",
       "      <td>D12</td>\n",
       "      <td>0.010990</td>\n",
       "    </tr>\n",
       "  </tbody>\n",
       "</table>\n",
       "</div>"
      ],
      "text/plain": [
       "     id               name    rating\n",
       "0     7     Marilyn Manson  0.196486\n",
       "1   472       3 Doors Down  0.043204\n",
       "2   614          Pearl Jam  0.042016\n",
       "3   923  Children of Bodom  0.025657\n",
       "4   978          Disturbed  0.021690\n",
       "5  1104          Rammstein  0.021562\n",
       "6  1118   A Perfect Circle  0.020879\n",
       "7  2172             Gojira  0.017051\n",
       "8  6257         Rob Zombie  0.016280\n",
       "9  6618                D12  0.010990"
      ]
     },
     "execution_count": 32,
     "metadata": {},
     "output_type": "execute_result"
    }
   ],
   "source": [
    "existing_ratings_index = np.where(train[user_index, :] > 0)[0]\n",
    "existing_ratings = train[user_index, existing_ratings_index]\n",
    "\n",
    "create_artist_ratings(artists, existing_ratings_index, existing_ratings)"
   ]
  },
  {
   "cell_type": "code",
   "execution_count": 33,
   "metadata": {
    "id": "SlQhdjI_81II",
    "vscode": {
     "languageId": "python"
    }
   },
   "outputs": [
    {
     "data": {
      "text/html": [
       "<div>\n",
       "<style scoped>\n",
       "    .dataframe tbody tr th:only-of-type {\n",
       "        vertical-align: middle;\n",
       "    }\n",
       "\n",
       "    .dataframe tbody tr th {\n",
       "        vertical-align: top;\n",
       "    }\n",
       "\n",
       "    .dataframe thead th {\n",
       "        text-align: right;\n",
       "    }\n",
       "</style>\n",
       "<table border=\"1\" class=\"dataframe\">\n",
       "  <thead>\n",
       "    <tr style=\"text-align: right;\">\n",
       "      <th></th>\n",
       "      <th>id</th>\n",
       "      <th>name</th>\n",
       "      <th>rating</th>\n",
       "    </tr>\n",
       "  </thead>\n",
       "  <tbody>\n",
       "    <tr>\n",
       "      <th>0</th>\n",
       "      <td>1318</td>\n",
       "      <td>Sander van Doorn</td>\n",
       "      <td>0.559202</td>\n",
       "    </tr>\n",
       "    <tr>\n",
       "      <th>1</th>\n",
       "      <td>3167</td>\n",
       "      <td>Jacob Miller</td>\n",
       "      <td>0.552893</td>\n",
       "    </tr>\n",
       "    <tr>\n",
       "      <th>2</th>\n",
       "      <td>7627</td>\n",
       "      <td>Celtas Cortos</td>\n",
       "      <td>0.552142</td>\n",
       "    </tr>\n",
       "    <tr>\n",
       "      <th>3</th>\n",
       "      <td>10995</td>\n",
       "      <td>Camisa de Vênus</td>\n",
       "      <td>0.546361</td>\n",
       "    </tr>\n",
       "    <tr>\n",
       "      <th>4</th>\n",
       "      <td>12186</td>\n",
       "      <td>Ella Fitzgerald &amp; Louis Armstrong</td>\n",
       "      <td>0.541477</td>\n",
       "    </tr>\n",
       "    <tr>\n",
       "      <th>5</th>\n",
       "      <td>12911</td>\n",
       "      <td>The Answer</td>\n",
       "      <td>0.537367</td>\n",
       "    </tr>\n",
       "    <tr>\n",
       "      <th>6</th>\n",
       "      <td>14245</td>\n",
       "      <td>Anjelika Akbar</td>\n",
       "      <td>0.536756</td>\n",
       "    </tr>\n",
       "    <tr>\n",
       "      <th>7</th>\n",
       "      <td>14940</td>\n",
       "      <td>Medications</td>\n",
       "      <td>0.536486</td>\n",
       "    </tr>\n",
       "    <tr>\n",
       "      <th>8</th>\n",
       "      <td>15792</td>\n",
       "      <td>Lützenkirchen</td>\n",
       "      <td>0.535515</td>\n",
       "    </tr>\n",
       "    <tr>\n",
       "      <th>9</th>\n",
       "      <td>18559</td>\n",
       "      <td>Archie Star</td>\n",
       "      <td>0.535147</td>\n",
       "    </tr>\n",
       "  </tbody>\n",
       "</table>\n",
       "</div>"
      ],
      "text/plain": [
       "      id                               name    rating\n",
       "0   1318                   Sander van Doorn  0.559202\n",
       "1   3167                       Jacob Miller  0.552893\n",
       "2   7627                      Celtas Cortos  0.552142\n",
       "3  10995                    Camisa de Vênus  0.546361\n",
       "4  12186  Ella Fitzgerald & Louis Armstrong  0.541477\n",
       "5  12911                         The Answer  0.537367\n",
       "6  14245                     Anjelika Akbar  0.536756\n",
       "7  14940                        Medications  0.536486\n",
       "8  15792                      Lützenkirchen  0.535515\n",
       "9  18559                        Archie Star  0.535147"
      ]
     },
     "execution_count": 33,
     "metadata": {},
     "output_type": "execute_result"
    }
   ],
   "source": [
    "# Your Systems Recommendation for specific user_id on its unobserved ratings:\n",
    "create_artist_ratings(artists, predictions_index, rating_predictions)"
   ]
  },
  {
   "cell_type": "markdown",
   "metadata": {
    "id": "6WBpEI-Qr8N-"
   },
   "source": [
    "# Bonus\n",
    "**Whatever innovation you can the on representing results of your system visually (+5 pts, note that top visualizations in sense of innovation will get the point)**"
   ]
  }
 ],
 "metadata": {
  "colab": {
   "collapsed_sections": [],
   "provenance": [],
   "toc_visible": true
  },
  "kernelspec": {
   "display_name": "Python 3 (ipykernel)",
   "language": "python",
   "name": "python3"
  },
  "language_info": {
   "codemirror_mode": {
    "name": "ipython",
    "version": 3
   },
   "file_extension": ".py",
   "mimetype": "text/x-python",
   "name": "python",
   "nbconvert_exporter": "python",
   "pygments_lexer": "ipython3",
   "version": "3.10.4"
  }
 },
 "nbformat": 4,
 "nbformat_minor": 1
}
